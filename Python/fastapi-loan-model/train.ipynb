{
 "cells": [
  {
   "cell_type": "code",
   "execution_count": null,
   "metadata": {},
   "outputs": [],
   "source": [
    "import numpy as np\n",
    "import pandas as pd\n",
    "import xgboost as xgb\n",
    "from sklearn.model_selection import train_test_split\n",
    "from sklearn.metrics import auc, accuracy_score, confusion_matrix, mean_squared_error"
   ]
  },
  {
   "cell_type": "code",
   "execution_count": null,
   "metadata": {},
   "outputs": [],
   "source": [
    "disp_df = pd.read_parquet(\"data/disposition.parquet\", engine='fastparquet')\n",
    "client_df = pd.read_parquet(\"data/client.parquet\", engine='fastparquet')\n",
    "loans_df = pd.read_parquet(\"data/loan.parquet\", engine='fastparquet')"
   ]
  },
  {
   "cell_type": "code",
   "execution_count": null,
   "metadata": {},
   "outputs": [],
   "source": [
    "def gen_fico(status):\n",
    "    if status == \"A\":\n",
    "        return np.random.normal(loc=790, scale=75, size=1)[0].round()\n",
    "    elif status == \"B\":\n",
    "        return np.random.normal(loc=760, scale=75, size=1)[0].round()\n",
    "    elif status == \"C\":\n",
    "        return np.random.normal(loc=675, scale=75, size=1)[0].round()\n",
    "    else:\n",
    "        return np.random.normal(loc=540, scale=75, size=1)[0].round()\n",
    "\n",
    "def convert_status(status):\n",
    "    if status == \"A\":\n",
    "        return 0\n",
    "    elif status == \"B\":\n",
    "        return 1\n",
    "    elif status == \"C\":\n",
    "        return 2\n",
    "    else:\n",
    "        return 3"
   ]
  },
  {
   "cell_type": "code",
   "execution_count": null,
   "metadata": {},
   "outputs": [],
   "source": [
    "all_data = pd.merge(\n",
    "    loans_df,\n",
    "    disp_df[(disp_df.type == \"Owner\")],\n",
    "    on='account_id',\n",
    "    how='left'\n",
    ")\n",
    "all_data = pd.merge(\n",
    "    all_data,\n",
    "    client_df.rename(columns={'fulldate': 'dob'}),\n",
    "    on='client_id',\n",
    "    how='left'\n",
    ")\n",
    "all_data['loannum'] = all_data['loan_id'].str[1:].apply(pd.to_numeric)\n",
    "all_data = all_data[(all_data['loannum'] < 7308)]\n",
    "np.random.seed(9456)\n",
    "all_data['fico'] = all_data['status'].apply(gen_fico)\n",
    "all_data['status'] = all_data['status'].apply(convert_status)\n",
    "\n",
    "\n",
    "\n",
    "print(all_data)"
   ]
  },
  {
   "cell_type": "code",
   "execution_count": null,
   "metadata": {},
   "outputs": [],
   "source": [
    "model_data = all_data[[\"status\", \"age\", \"district_id\", \"amount\", \"duration\", \"fico\"]].copy()\n",
    "cols = ['age', 'district_id', 'duration', 'fico']\n",
    "model_data[cols] = model_data[cols].map(np.int64)\n",
    "X, y = model_data.drop('status', axis=1), model_data[['status']]\n",
    "print(y)"
   ]
  },
  {
   "cell_type": "code",
   "execution_count": null,
   "metadata": {},
   "outputs": [],
   "source": [
    "X_train, X_test, y_train, y_test = train_test_split(X, y, test_size=0.33, random_state=7)\n",
    "            \n",
    "# instantiate the classifier \n",
    "xgb_model = xgb.XGBClassifier(objective=\"multi:softprob\", learning_rate=0.00117)\n",
    "\n",
    "\n",
    "# fit the classifier to the training data\n",
    "xgb_model.fit(X_train, y_train)\n",
    "\n",
    "\n",
    "y_pred = xgb_model.predict(X_test)\n",
    "\n",
    "accuracy = xgb_model.score(X_test, y_test)\n",
    "print(\"Accuracy: %.2f%%\" % (accuracy * 100.0))"
   ]
  },
  {
   "cell_type": "code",
   "execution_count": null,
   "metadata": {},
   "outputs": [],
   "source": [
    "xgb_model.save_model('model/xgb_final_model.json')"
   ]
  }
 ],
 "metadata": {
  "kernelspec": {
   "display_name": ".venv",
   "language": "python",
   "name": "python3"
  },
  "language_info": {
   "codemirror_mode": {
    "name": "ipython",
    "version": 3
   },
   "file_extension": ".py",
   "mimetype": "text/x-python",
   "name": "python",
   "nbconvert_exporter": "python",
   "pygments_lexer": "ipython3",
   "version": "3.11.6"
  },
  "orig_nbformat": 4
 },
 "nbformat": 4,
 "nbformat_minor": 2
}
