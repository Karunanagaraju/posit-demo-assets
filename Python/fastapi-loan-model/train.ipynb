{
 "cells": [
  {
   "cell_type": "code",
   "execution_count": 17,
   "metadata": {},
   "outputs": [],
   "source": [
    "import numpy as np\n",
    "import pandas as pd\n",
    "import xgboost as xgb\n",
    "from sklearn.model_selection import train_test_split\n",
    "from sklearn.metrics import auc, accuracy_score, confusion_matrix, mean_squared_error"
   ]
  },
  {
   "cell_type": "code",
   "execution_count": 4,
   "metadata": {},
   "outputs": [],
   "source": [
    "disp_df = pd.read_parquet(\"data/disposition.parquet\", engine='fastparquet')\n",
    "client_df = pd.read_parquet(\"data/client.parquet\", engine='fastparquet')\n",
    "loans_df = pd.read_parquet(\"data/loan.parquet\", engine='fastparquet')"
   ]
  },
  {
   "cell_type": "code",
   "execution_count": 12,
   "metadata": {},
   "outputs": [],
   "source": [
    "def gen_fico(status):\n",
    "    if status == \"A\":\n",
    "        return np.random.normal(loc=790, scale=75, size=1)[0].round()\n",
    "    elif status == \"B\":\n",
    "        return np.random.normal(loc=760, scale=75, size=1)[0].round()\n",
    "    elif status == \"C\":\n",
    "        return np.random.normal(loc=675, scale=75, size=1)[0].round()\n",
    "    else:\n",
    "        return np.random.normal(loc=540, scale=75, size=1)[0].round()\n",
    "\n",
    "def convert_status(status):\n",
    "    if status == \"A\":\n",
    "        return 0\n",
    "    elif status == \"B\":\n",
    "        return 1\n",
    "    elif status == \"C\":\n",
    "        return 2\n",
    "    else:\n",
    "        return 3"
   ]
  },
  {
   "cell_type": "code",
   "execution_count": 13,
   "metadata": {},
   "outputs": [
    {
     "name": "stdout",
     "output_type": "stream",
     "text": [
      "       loan_id account_id    amount  duration  payments  status   fulldate  \\\n",
      "0    L00005657  A00003354    4980.0      12.0     415.0       0 2019-05-07   \n",
      "1    L00006234  A00006061    5148.0      12.0     429.0       2 2023-03-30   \n",
      "2    L00006699  A00008330    7656.0      24.0     319.0       0 2019-01-30   \n",
      "3    L00006688  A00008268    8616.0      24.0     359.0       2 2022-07-29   \n",
      "4    L00006312  A00006453   10944.0      36.0     304.0       2 2023-03-19   \n",
      "..         ...        ...       ...       ...       ...     ...        ...   \n",
      "677  L00005569  A00002936  504000.0      60.0    8400.0       2 2022-11-22   \n",
      "678  L00005132  A00000817  538500.0      60.0    8975.0       2 2019-12-20   \n",
      "679  L00005447  A00002335  541200.0      60.0    9020.0       3 2022-09-14   \n",
      "680  L00006791  A00008926  566640.0      60.0    9444.0       2 2022-11-25   \n",
      "681  L00006534  A00007542  590820.0      60.0    9847.0       2 2022-08-21   \n",
      "\n",
      "     location purpose risk_category  ...                          email  \\\n",
      "0        59.0     car             B  ...    madison.wilsonw@outlook.com   \n",
      "1         1.0     car             C  ...      arianna.sanchez@gmail.com   \n",
      "2         1.0     car             A  ...  valeria.guerrero9@outlook.com   \n",
      "3         1.0     car             C  ...       carter.hoffman@gmail.com   \n",
      "4         1.0     car             C  ...         ryder.bryant@gmail.com   \n",
      "..        ...     ...           ...  ...                            ...   \n",
      "677      18.0    home             B  ...   fisher.underwood@hotmail.com   \n",
      "678      64.0    home             B  ...       arlo.cervantes@gmail.com   \n",
      "679      59.0    home             B  ...       natalie.fish@hotmail.com   \n",
      "680       1.0    home             C  ...   harmony.gonzalez@outlook.com   \n",
      "681       1.0    home             C  ...      christian.hicks@gmail.com   \n",
      "\n",
      "                   address_1 address_2           city state  zipcode  \\\n",
      "0       866 Arrowhead Street      None        Norwalk    CT    40104   \n",
      "1    666 West Johnson Avenue      None  New York City    NY    10161   \n",
      "2       664 Glen Eagles Lane      None      Worcester    MA    01614   \n",
      "3             8261 Wagon St.      None         Quincy    MA    02170   \n",
      "4            9895 Sugar Road      None    Little Rock    AR    48659   \n",
      "..                       ...       ...            ...   ...      ...   \n",
      "677        463 Blackburn St.      None       Columbus    OH    43997   \n",
      "678  32 S. Buckingham Street      None   Indianapolis    IN    48200   \n",
      "679    995 East Linden Court      None    Los Angeles    CA    41791   \n",
      "680        56 Greenrose Lane      None  New York City    NY    10012   \n",
      "681      623 Glenlake Street      None        Houston    TX    44211   \n",
      "\n",
      "    district_id segment loannum   fico  \n",
      "0          63.0       3    5657  819.0  \n",
      "1           1.0       8    6234  643.0  \n",
      "2          48.0       4    6699  691.0  \n",
      "3          59.0       3    6688  685.0  \n",
      "4          34.0       4    6312  734.0  \n",
      "..          ...     ...     ...    ...  \n",
      "677         3.0       8    5569  536.0  \n",
      "678         5.0       3    5132  708.0  \n",
      "679        70.0       3    5447  622.0  \n",
      "680         1.0       7    6791  760.0  \n",
      "681        54.0       5    6534  650.0  \n",
      "\n",
      "[681 rows x 30 columns]\n"
     ]
    }
   ],
   "source": [
    "all_data = pd.merge(\n",
    "    loans_df,\n",
    "    disp_df[(disp_df.type == \"Owner\")],\n",
    "    on='account_id',\n",
    "    how='left'\n",
    ")\n",
    "all_data = pd.merge(\n",
    "    all_data,\n",
    "    client_df.rename(columns={'fulldate': 'dob'}),\n",
    "    on='client_id',\n",
    "    how='left'\n",
    ")\n",
    "all_data['loannum'] = all_data['loan_id'].str[1:].apply(pd.to_numeric)\n",
    "all_data = all_data[(all_data['loannum'] < 7308)]\n",
    "np.random.seed(9456)\n",
    "all_data['fico'] = all_data['status'].apply(gen_fico)\n",
    "all_data['status'] = all_data['status'].apply(convert_status)\n",
    "\n",
    "\n",
    "\n",
    "print(all_data)"
   ]
  },
  {
   "cell_type": "code",
   "execution_count": 14,
   "metadata": {},
   "outputs": [
    {
     "name": "stdout",
     "output_type": "stream",
     "text": [
      "     status\n",
      "0         0\n",
      "1         2\n",
      "2         0\n",
      "3         2\n",
      "4         2\n",
      "..      ...\n",
      "677       2\n",
      "678       2\n",
      "679       3\n",
      "680       2\n",
      "681       2\n",
      "\n",
      "[681 rows x 1 columns]\n"
     ]
    }
   ],
   "source": [
    "model_data = all_data[[\"status\", \"age\", \"district_id\", \"amount\", \"duration\", \"fico\"]].copy()\n",
    "cols = ['age', 'district_id', 'duration', 'fico']\n",
    "model_data[cols] = model_data[cols].map(np.int64)\n",
    "X, y = model_data.drop('status', axis=1), model_data[['status']]\n",
    "print(y)"
   ]
  },
  {
   "cell_type": "code",
   "execution_count": 20,
   "metadata": {},
   "outputs": [
    {
     "name": "stdout",
     "output_type": "stream",
     "text": [
      "Accuracy: 75.56%\n"
     ]
    }
   ],
   "source": [
    "X_train, X_test, y_train, y_test = train_test_split(X, y, test_size=0.33, random_state=7)\n",
    "            \n",
    "# instantiate the classifier \n",
    "xgb_model = xgb.XGBClassifier(objective=\"multi:softprob\", learning_rate=0.00117)\n",
    "\n",
    "\n",
    "# fit the classifier to the training data\n",
    "xgb_model.fit(X_train, y_train)\n",
    "\n",
    "\n",
    "y_pred = xgb_model.predict(X_test)\n",
    "\n",
    "accuracy = xgb_model.score(X_test, y_test)\n",
    "print(\"Accuracy: %.2f%%\" % (accuracy * 100.0))"
   ]
  },
  {
   "cell_type": "code",
   "execution_count": 22,
   "metadata": {},
   "outputs": [],
   "source": [
    "xgb_model.save_model('model/xgb_final_model.json')"
   ]
  },
  {
   "cell_type": "code",
   "execution_count": null,
   "metadata": {},
   "outputs": [
    {
     "name": "stdout",
     "output_type": "stream",
     "text": [
      "status    category\n",
      "dtype: object\n"
     ]
    }
   ],
   "source": [
    "print(y_train.dtypes)"
   ]
  }
 ],
 "metadata": {
  "kernelspec": {
   "display_name": ".venv",
   "language": "python",
   "name": "python3"
  },
  "language_info": {
   "codemirror_mode": {
    "name": "ipython",
    "version": 3
   },
   "file_extension": ".py",
   "mimetype": "text/x-python",
   "name": "python",
   "nbconvert_exporter": "python",
   "pygments_lexer": "ipython3",
   "version": "3.11.6"
  },
  "orig_nbformat": 4
 },
 "nbformat": 4,
 "nbformat_minor": 2
}
